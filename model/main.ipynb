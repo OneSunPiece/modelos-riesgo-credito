{
 "cells": [
  {
   "cell_type": "markdown",
   "metadata": {},
   "source": [
    "# Hello world\n",
    "and with this humble words, this masterpiece begin"
   ]
  },
  {
   "cell_type": "code",
   "execution_count": null,
   "metadata": {},
   "outputs": [],
   "source": [
    "# Let's load the data into memory\n",
    "!python3 load_data.py"
   ]
  },
  {
   "cell_type": "code",
   "execution_count": 2,
   "metadata": {},
   "outputs": [
    {
     "name": "stderr",
     "output_type": "stream",
     "text": [
      "2025-01-24 22:17:20.432249: I external/local_xla/xla/tsl/cuda/cudart_stub.cc:32] Could not find cuda drivers on your machine, GPU will not be used.\n",
      "2025-01-24 22:17:20.434857: I external/local_xla/xla/tsl/cuda/cudart_stub.cc:32] Could not find cuda drivers on your machine, GPU will not be used.\n",
      "2025-01-24 22:17:20.441468: E external/local_xla/xla/stream_executor/cuda/cuda_fft.cc:477] Unable to register cuFFT factory: Attempting to register factory for plugin cuFFT when one has already been registered\n",
      "WARNING: All log messages before absl::InitializeLog() is called are written to STDERR\n",
      "E0000 00:00:1737775040.451911  156636 cuda_dnn.cc:8310] Unable to register cuDNN factory: Attempting to register factory for plugin cuDNN when one has already been registered\n",
      "E0000 00:00:1737775040.455039  156636 cuda_blas.cc:1418] Unable to register cuBLAS factory: Attempting to register factory for plugin cuBLAS when one has already been registered\n",
      "2025-01-24 22:17:20.467497: I tensorflow/core/platform/cpu_feature_guard.cc:210] This TensorFlow binary is optimized to use available CPU instructions in performance-critical operations.\n",
      "To enable the following instructions: AVX2 FMA, in other operations, rebuild TensorFlow with the appropriate compiler flags.\n",
      "/home/s/code/unal/RNA/Trabajos/modelos-riesgo-credito/.venv/lib/python3.11/site-packages/tqdm/auto.py:21: TqdmWarning: IProgress not found. Please update jupyter and ipywidgets. See https://ipywidgets.readthedocs.io/en/stable/user_install.html\n",
      "  from .autonotebook import tqdm as notebook_tqdm\n"
     ]
    }
   ],
   "source": [
    "# Libraries\n",
    "import pandas as pd\n",
    "import numpy as np\n",
    "#import matplotlib.pyplot as plt\n",
    "#import seaborn as sns\n",
    "\n",
    "# Scikit-learn\n",
    "from sklearn.preprocessing import OneHotEncoder, StandardScaler, FunctionTransformer\n",
    "from sklearn.impute import SimpleImputer\n",
    "from sklearn.compose import ColumnTransformer\n",
    "from sklearn.pipeline import Pipeline\n",
    "from sklearn.model_selection import train_test_split\n",
    "from sklearn.metrics import classification_report\n",
    "\n",
    "\n",
    "# TensorFlow\n",
    "import tensorflow as tf\n",
    "from tensorflow.keras.models import Sequential\n",
    "from tensorflow.keras.layers import Dense\n",
    "\n",
    "import pickle  # Para guardar el pipeline\n",
    "import joblib  # Para guardar el pipeline\n",
    "\n",
    "# Import the KaggleHub library\n",
    "import kagglehub\n",
    "from kagglehub import KaggleDatasetAdapter\n"
   ]
  },
  {
   "cell_type": "code",
   "execution_count": 3,
   "metadata": {},
   "outputs": [],
   "source": [
    "# Import the necessary functions from utilities.py\n",
    "from utilities import get_preprocessor, get_pipeline"
   ]
  },
  {
   "cell_type": "code",
   "execution_count": 4,
   "metadata": {},
   "outputs": [
    {
     "name": "stderr",
     "output_type": "stream",
     "text": [
      "/home/s/code/unal/RNA/Trabajos/modelos-riesgo-credito/.venv/lib/python3.11/site-packages/kagglehub/pandas_datasets.py:92: DtypeWarning: Columns (19,55) have mixed types. Specify dtype option on import or set low_memory=False.\n",
      "  result = read_function(\n"
     ]
    }
   ],
   "source": [
    "# Load a DataFrame with a specific version of a CSV\n",
    "df = kagglehub.load_dataset(\n",
    "    KaggleDatasetAdapter.PANDAS,\n",
    "    \"ranadeep/credit-risk-dataset/versions/3\",\n",
    "    \"loan/loan.csv\",\n",
    ")"
   ]
  },
  {
   "cell_type": "code",
   "execution_count": 5,
   "metadata": {},
   "outputs": [],
   "source": [
    "pipeline = get_pipeline()\n",
    "\n",
    "# Preprocess the data\n",
    "preproccesed_df = pipeline.fit_transform(df)"
   ]
  },
  {
   "cell_type": "code",
   "execution_count": 6,
   "metadata": {},
   "outputs": [],
   "source": [
    "# Dividir los datos en variables predictoras (X) y la variable objetivo (y)\n",
    "X = preproccesed_df.drop(columns=['funded_amnt', 'acc_now_delinq', 'total_rec_int', 'loan_status','collection_recovery_fee',\n",
    "       'revol_util', 'out_prncp', 'policy_code', 'collections_12_mths_ex_med',\n",
    "       'recoveries', 'total_rev_hi_lim', 'tot_cur_bal', 'total_rec_late_fee',\n",
    "       'total_acc', 'total_rec_prncp'])\n",
    "y = preproccesed_df['loan_status'].astype(int)"
   ]
  },
  {
   "cell_type": "code",
   "execution_count": 7,
   "metadata": {},
   "outputs": [],
   "source": [
    "numerical_columns = X.select_dtypes(include=['float64', 'int64']).columns\n",
    "categorical_columns = X.select_dtypes(include=['object']).columns\n",
    "preprocessor = get_preprocessor(X)"
   ]
  },
  {
   "cell_type": "code",
   "execution_count": 8,
   "metadata": {},
   "outputs": [],
   "source": [
    "X_train, X_test, y_train, y_test = train_test_split(X, y, test_size=0.2, random_state=2025)"
   ]
  },
  {
   "cell_type": "code",
   "execution_count": 9,
   "metadata": {},
   "outputs": [],
   "source": [
    "# Aplicar el preprocesamiento a los datos\n",
    "X_train_preprocessed = preprocessor.fit_transform(X_train)\n",
    "X_test_preprocessed = preprocessor.transform(X_test)"
   ]
  },
  {
   "cell_type": "code",
   "execution_count": 10,
   "metadata": {},
   "outputs": [
    {
     "name": "stderr",
     "output_type": "stream",
     "text": [
      "/home/s/code/unal/RNA/Trabajos/modelos-riesgo-credito/.venv/lib/python3.11/site-packages/keras/src/layers/core/dense.py:87: UserWarning: Do not pass an `input_shape`/`input_dim` argument to a layer. When using Sequential models, prefer using an `Input(shape)` object as the first layer in the model instead.\n",
      "  super().__init__(activity_regularizer=activity_regularizer, **kwargs)\n",
      "2025-01-24 22:17:44.946830: E external/local_xla/xla/stream_executor/cuda/cuda_driver.cc:152] failed call to cuInit: INTERNAL: CUDA error: Failed call to cuInit: UNKNOWN ERROR (303)\n"
     ]
    }
   ],
   "source": [
    "# Construir el modelo de Keras\n",
    "model = Sequential([\n",
    "    Dense(64, input_dim=X_train_preprocessed.shape[1], activation='relu'),  # Capa de entrada con 64 neuronas\n",
    "    Dense(32, activation='relu'),  # Capa oculta con 32 neuronas\n",
    "    Dense(1, activation='sigmoid')  # Capa de salida (sigmoide para clasificación binaria)\n",
    "])"
   ]
  },
  {
   "cell_type": "code",
   "execution_count": 11,
   "metadata": {},
   "outputs": [],
   "source": [
    "# Compilar el modelo\n",
    "model.compile(optimizer='adam', loss='binary_crossentropy', metrics=['accuracy', 'recall'])"
   ]
  },
  {
   "cell_type": "code",
   "execution_count": 12,
   "metadata": {},
   "outputs": [
    {
     "name": "stdout",
     "output_type": "stream",
     "text": [
      "Epoch 1/10\n",
      "\u001b[1m22185/22185\u001b[0m \u001b[32m━━━━━━━━━━━━━━━━━━━━\u001b[0m\u001b[37m\u001b[0m \u001b[1m13s\u001b[0m 555us/step - accuracy: 0.9665 - loss: 0.1294 - recall: 0.9990\n",
      "Epoch 2/10\n",
      "\u001b[1m22185/22185\u001b[0m \u001b[32m━━━━━━━━━━━━━━━━━━━━\u001b[0m\u001b[37m\u001b[0m \u001b[1m12s\u001b[0m 556us/step - accuracy: 0.9724 - loss: 0.1111 - recall: 0.9993\n",
      "Epoch 3/10\n",
      "\u001b[1m22185/22185\u001b[0m \u001b[32m━━━━━━━━━━━━━━━━━━━━\u001b[0m\u001b[37m\u001b[0m \u001b[1m12s\u001b[0m 555us/step - accuracy: 0.9728 - loss: 0.1090 - recall: 0.9994\n",
      "Epoch 4/10\n",
      "\u001b[1m22185/22185\u001b[0m \u001b[32m━━━━━━━━━━━━━━━━━━━━\u001b[0m\u001b[37m\u001b[0m \u001b[1m12s\u001b[0m 550us/step - accuracy: 0.9730 - loss: 0.1078 - recall: 0.9994\n",
      "Epoch 5/10\n",
      "\u001b[1m22185/22185\u001b[0m \u001b[32m━━━━━━━━━━━━━━━━━━━━\u001b[0m\u001b[37m\u001b[0m \u001b[1m12s\u001b[0m 551us/step - accuracy: 0.9732 - loss: 0.1072 - recall: 0.9994\n",
      "Epoch 6/10\n",
      "\u001b[1m22185/22185\u001b[0m \u001b[32m━━━━━━━━━━━━━━━━━━━━\u001b[0m\u001b[37m\u001b[0m \u001b[1m12s\u001b[0m 548us/step - accuracy: 0.9732 - loss: 0.1069 - recall: 0.9994\n",
      "Epoch 7/10\n",
      "\u001b[1m22185/22185\u001b[0m \u001b[32m━━━━━━━━━━━━━━━━━━━━\u001b[0m\u001b[37m\u001b[0m \u001b[1m12s\u001b[0m 550us/step - accuracy: 0.9732 - loss: 0.1067 - recall: 0.9994\n",
      "Epoch 8/10\n",
      "\u001b[1m22185/22185\u001b[0m \u001b[32m━━━━━━━━━━━━━━━━━━━━\u001b[0m\u001b[37m\u001b[0m \u001b[1m12s\u001b[0m 547us/step - accuracy: 0.9734 - loss: 0.1064 - recall: 0.9995\n",
      "Epoch 9/10\n",
      "\u001b[1m22185/22185\u001b[0m \u001b[32m━━━━━━━━━━━━━━━━━━━━\u001b[0m\u001b[37m\u001b[0m \u001b[1m12s\u001b[0m 547us/step - accuracy: 0.9736 - loss: 0.1056 - recall: 0.9996\n",
      "Epoch 10/10\n",
      "\u001b[1m22185/22185\u001b[0m \u001b[32m━━━━━━━━━━━━━━━━━━━━\u001b[0m\u001b[37m\u001b[0m \u001b[1m12s\u001b[0m 546us/step - accuracy: 0.9731 - loss: 0.1072 - recall: 0.9995\n"
     ]
    },
    {
     "data": {
      "text/plain": [
       "<keras.src.callbacks.history.History at 0x7f39ffc187d0>"
      ]
     },
     "execution_count": 12,
     "metadata": {},
     "output_type": "execute_result"
    }
   ],
   "source": [
    "# Entrenar el modelo\n",
    "model.fit(X_train_preprocessed, y_train, epochs=10, batch_size=32, verbose=1)"
   ]
  },
  {
   "cell_type": "code",
   "execution_count": 13,
   "metadata": {},
   "outputs": [
    {
     "name": "stdout",
     "output_type": "stream",
     "text": [
      "\u001b[1m5547/5547\u001b[0m \u001b[32m━━━━━━━━━━━━━━━━━━━━\u001b[0m\u001b[37m\u001b[0m \u001b[1m2s\u001b[0m 289us/step\n",
      "              precision    recall  f1-score   support\n",
      "\n",
      "           0       0.98      0.66      0.79     13324\n",
      "           1       0.97      1.00      0.99    164152\n",
      "\n",
      "    accuracy                           0.97    177476\n",
      "   macro avg       0.98      0.83      0.89    177476\n",
      "weighted avg       0.97      0.97      0.97    177476\n",
      "\n"
     ]
    }
   ],
   "source": [
    "# Hacer predicciones\n",
    "y_pred = (model.predict(X_test_preprocessed) > 0.5).astype(\"int32\")\n",
    "# Mostrar el reporte de clasificación\n",
    "print(classification_report(y_test, y_pred))"
   ]
  },
  {
   "cell_type": "code",
   "execution_count": 14,
   "metadata": {},
   "outputs": [
    {
     "data": {
      "text/plain": [
       "['model.pkl']"
      ]
     },
     "execution_count": 14,
     "metadata": {},
     "output_type": "execute_result"
    }
   ],
   "source": [
    "# Save the preprocessor\n",
    "filename = 'preprocessor.pkl'\n",
    "with open(filename, 'wb') as f:\n",
    "    pickle.dump(preprocessor, f)\n",
    "\n",
    "# Save the model to disk with pickle\n",
    "filename = 'model.pkl'\n",
    "joblib.dump(model, filename)"
   ]
  },
  {
   "cell_type": "markdown",
   "metadata": {},
   "source": [
    "# Explore a little bit"
   ]
  },
  {
   "cell_type": "code",
   "execution_count": 15,
   "metadata": {},
   "outputs": [],
   "source": [
    "column_data = X_test.iloc[0]"
   ]
  },
  {
   "cell_type": "code",
   "execution_count": 16,
   "metadata": {},
   "outputs": [
    {
     "data": {
      "text/plain": [
       "loan_amnt                           24000.0\n",
       "funded_amnt_inv                     24000.0\n",
       "term                                    0.0\n",
       "int_rate                               6.03\n",
       "installment                          730.46\n",
       "sub_grade                               7.8\n",
       "home_ownership                     MORTGAGE\n",
       "annual_inc                         182000.0\n",
       "verification_status                     1.0\n",
       "pymnt_plan                                n\n",
       "dti                                   13.15\n",
       "delinq_2yrs                             0.0\n",
       "inq_last_6mths                          1.0\n",
       "mths_since_last_delinq                 72.0\n",
       "mths_since_last_record                 70.0\n",
       "open_acc                               15.0\n",
       "pub_rec                                 0.0\n",
       "revol_bal                           26660.0\n",
       "initial_list_status                       f\n",
       "out_prncp_inv                           0.0\n",
       "total_pymnt                    25479.895843\n",
       "total_pymnt_inv                     25479.9\n",
       "last_pymnt_amnt                    15254.84\n",
       "mths_since_last_major_derog            44.0\n",
       "application_type                 INDIVIDUAL\n",
       "annual_inc_joint                   101771.0\n",
       "dti_joint                             17.61\n",
       "verification_status_joint               NaN\n",
       "tot_coll_amt                            0.0\n",
       "open_acc_6m                             1.0\n",
       "open_il_6m                              2.0\n",
       "open_il_12m                             0.0\n",
       "open_il_24m                             1.0\n",
       "mths_since_rcnt_il                     12.0\n",
       "total_bal_il                        24684.5\n",
       "il_util                                74.9\n",
       "open_rv_12m                             1.0\n",
       "open_rv_24m                             2.0\n",
       "max_bal_bc                           4483.0\n",
       "all_util                               61.9\n",
       "inq_fi                                  0.0\n",
       "total_cu_tl                             0.0\n",
       "inq_last_12m                            2.0\n",
       "Name: 108169, dtype: object"
      ]
     },
     "execution_count": 16,
     "metadata": {},
     "output_type": "execute_result"
    }
   ],
   "source": [
    "column_data"
   ]
  },
  {
   "cell_type": "code",
   "execution_count": 17,
   "metadata": {},
   "outputs": [
    {
     "name": "stdout",
     "output_type": "stream",
     "text": [
      "\u001b[1m1/1\u001b[0m \u001b[32m━━━━━━━━━━━━━━━━━━━━\u001b[0m\u001b[37m\u001b[0m \u001b[1m0s\u001b[0m 20ms/step\n"
     ]
    },
    {
     "data": {
      "text/plain": [
       "array([[0.99998355]], dtype=float32)"
      ]
     },
     "execution_count": 17,
     "metadata": {},
     "output_type": "execute_result"
    }
   ],
   "source": [
    "# make a prediction with the model just a test row\n",
    "input_data = preprocessor.transform(column_data.to_frame().T)\n",
    "model.predict(input_data)"
   ]
  }
 ],
 "metadata": {
  "kernelspec": {
   "display_name": ".venv",
   "language": "python",
   "name": "python3"
  },
  "language_info": {
   "codemirror_mode": {
    "name": "ipython",
    "version": 3
   },
   "file_extension": ".py",
   "mimetype": "text/x-python",
   "name": "python",
   "nbconvert_exporter": "python",
   "pygments_lexer": "ipython3",
   "version": "3.11.2"
  }
 },
 "nbformat": 4,
 "nbformat_minor": 2
}
