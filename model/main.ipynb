{
 "cells": [
  {
   "cell_type": "markdown",
   "metadata": {},
   "source": [
    "# Hello world\n",
    "and with this humble words, this masterpiece begin"
   ]
  },
  {
   "cell_type": "code",
   "execution_count": 157,
   "metadata": {},
   "outputs": [
    {
     "name": "stdout",
     "output_type": "stream",
     "text": [
      "Path to dataset files: /home/s/.cache/kagglehub/datasets/ranadeep/credit-risk-dataset/versions/3\n"
     ]
    }
   ],
   "source": [
    "# Let's load the data into memory\n",
    "!python3 scripts/load_data.py"
   ]
  },
  {
   "cell_type": "code",
   "execution_count": 1,
   "metadata": {},
   "outputs": [
    {
     "name": "stderr",
     "output_type": "stream",
     "text": [
      "2025-01-30 21:44:58.433595: I external/local_xla/xla/tsl/cuda/cudart_stub.cc:32] Could not find cuda drivers on your machine, GPU will not be used.\n",
      "2025-01-30 21:44:59.617927: I external/local_xla/xla/tsl/cuda/cudart_stub.cc:32] Could not find cuda drivers on your machine, GPU will not be used.\n",
      "2025-01-30 21:45:00.674471: E external/local_xla/xla/stream_executor/cuda/cuda_fft.cc:477] Unable to register cuFFT factory: Attempting to register factory for plugin cuFFT when one has already been registered\n",
      "WARNING: All log messages before absl::InitializeLog() is called are written to STDERR\n",
      "E0000 00:00:1738291501.304019  160212 cuda_dnn.cc:8310] Unable to register cuDNN factory: Attempting to register factory for plugin cuDNN when one has already been registered\n",
      "E0000 00:00:1738291501.459087  160212 cuda_blas.cc:1418] Unable to register cuBLAS factory: Attempting to register factory for plugin cuBLAS when one has already been registered\n",
      "2025-01-30 21:45:02.885022: I tensorflow/core/platform/cpu_feature_guard.cc:210] This TensorFlow binary is optimized to use available CPU instructions in performance-critical operations.\n",
      "To enable the following instructions: AVX2 FMA, in other operations, rebuild TensorFlow with the appropriate compiler flags.\n",
      "/home/s/code/unal/RNA/Trabajos/modelos-riesgo-credito/.venv/lib/python3.11/site-packages/tqdm/auto.py:21: TqdmWarning: IProgress not found. Please update jupyter and ipywidgets. See https://ipywidgets.readthedocs.io/en/stable/user_install.html\n",
      "  from .autonotebook import tqdm as notebook_tqdm\n"
     ]
    }
   ],
   "source": [
    "# Libraries\n",
    "import pandas as pd\n",
    "import numpy as np\n",
    "import matplotlib.pyplot as plt\n",
    "import seaborn as sns\n",
    "\n",
    "# Scikit-learn\n",
    "from sklearn.preprocessing import OneHotEncoder, StandardScaler, FunctionTransformer\n",
    "from sklearn.impute import SimpleImputer\n",
    "from sklearn.compose import ColumnTransformer\n",
    "from sklearn.pipeline import Pipeline\n",
    "from sklearn.model_selection import train_test_split\n",
    "from sklearn.metrics import classification_report, roc_curve, roc_auc_score\n",
    "\n",
    "\n",
    "# TensorFlow\n",
    "import tensorflow as tf\n",
    "from tensorflow.keras.models import Sequential\n",
    "from tensorflow.keras.layers import Dense\n",
    "\n",
    "import pickle  # Para guardar el pipeline\n",
    "import joblib  # Para guardar el pipeline\n",
    "\n",
    "# Import the KaggleHub library\n",
    "import kagglehub\n",
    "from kagglehub import KaggleDatasetAdapter\n"
   ]
  },
  {
   "cell_type": "code",
   "execution_count": 2,
   "metadata": {},
   "outputs": [],
   "source": [
    "# Import the necessary functions from utilities.py\n",
    "from scripts.utilities import get_preprocessor, get_pipeline"
   ]
  },
  {
   "cell_type": "code",
   "execution_count": 3,
   "metadata": {},
   "outputs": [
    {
     "name": "stderr",
     "output_type": "stream",
     "text": [
      "/home/s/code/unal/RNA/Trabajos/modelos-riesgo-credito/.venv/lib/python3.11/site-packages/kagglehub/pandas_datasets.py:92: DtypeWarning: Columns (19,55) have mixed types. Specify dtype option on import or set low_memory=False.\n",
      "  result = read_function(\n"
     ]
    }
   ],
   "source": [
    "# Load a DataFrame with a specific version of a CSV\n",
    "df = kagglehub.load_dataset(\n",
    "    KaggleDatasetAdapter.PANDAS,\n",
    "    \"ranadeep/credit-risk-dataset/versions/3\",\n",
    "    \"loan/loan.csv\",\n",
    ")"
   ]
  },
  {
   "cell_type": "code",
   "execution_count": 4,
   "metadata": {},
   "outputs": [],
   "source": [
    "pipeline = get_pipeline()\n",
    "\n",
    "# Preprocess the data\n",
    "preproccesed_df = pipeline.fit_transform(df)"
   ]
  },
  {
   "cell_type": "code",
   "execution_count": 5,
   "metadata": {},
   "outputs": [],
   "source": [
    "columns_to_drop = [\n",
    "    'loan_status',\n",
    "    'inq_last_6mths',\n",
    "       'mths_since_last_delinq', 'mths_since_last_record', 'open_acc',\n",
    "       'pub_rec', 'revol_bal', 'initial_list_status', 'out_prncp_inv',\n",
    "       'total_pymnt', 'total_pymnt_inv', 'last_pymnt_amnt',\n",
    "       'mths_since_last_major_derog', 'application_type', 'annual_inc_joint',\n",
    "       'dti_joint', 'verification_status_joint', 'tot_coll_amt', 'open_acc_6m',\n",
    "       'open_il_6m', 'open_il_12m', 'open_il_24m', 'mths_since_rcnt_il',\n",
    "       'total_bal_il', 'il_util', 'open_rv_12m', 'open_rv_24m', 'max_bal_bc',\n",
    "       'all_util', 'inq_fi', 'total_cu_tl', 'inq_last_12m'\n",
    "       ]"
   ]
  },
  {
   "cell_type": "code",
   "execution_count": 6,
   "metadata": {},
   "outputs": [],
   "source": [
    "# Dividir los datos en variables predictoras (X) y la variable objetivo (y)\n",
    "X = preproccesed_df.drop(columns= columns_to_drop)\n",
    "y = preproccesed_df['loan_status'].astype(int)"
   ]
  },
  {
   "cell_type": "code",
   "execution_count": 7,
   "metadata": {},
   "outputs": [
    {
     "name": "stdout",
     "output_type": "stream",
     "text": [
      "Features: 26\n"
     ]
    },
    {
     "data": {
      "text/plain": [
       "Index(['loan_amnt', 'funded_amnt', 'funded_amnt_inv', 'term', 'int_rate',\n",
       "       'installment', 'sub_grade', 'home_ownership', 'annual_inc',\n",
       "       'verification_status', 'pymnt_plan', 'dti', 'delinq_2yrs', 'revol_util',\n",
       "       'total_acc', 'out_prncp', 'total_rec_prncp', 'total_rec_int',\n",
       "       'total_rec_late_fee', 'recoveries', 'collection_recovery_fee',\n",
       "       'collections_12_mths_ex_med', 'policy_code', 'acc_now_delinq',\n",
       "       'tot_cur_bal', 'total_rev_hi_lim'],\n",
       "      dtype='object')"
      ]
     },
     "execution_count": 7,
     "metadata": {},
     "output_type": "execute_result"
    }
   ],
   "source": [
    "# Let's check the data\n",
    "print(f'Features: {len(X.columns)}')\n",
    "X.columns"
   ]
  },
  {
   "cell_type": "code",
   "execution_count": 8,
   "metadata": {},
   "outputs": [
    {
     "data": {
      "text/plain": [
       "Index(['home_ownership', 'pymnt_plan'], dtype='object')"
      ]
     },
     "execution_count": 8,
     "metadata": {},
     "output_type": "execute_result"
    }
   ],
   "source": [
    "numerical_columns = X.select_dtypes(include=['float64', 'int64']).columns\n",
    "categorical_columns = X.select_dtypes(include=['object']).columns\n",
    "categorical_columns"
   ]
  },
  {
   "cell_type": "code",
   "execution_count": 9,
   "metadata": {},
   "outputs": [],
   "source": [
    "preprocessor = get_preprocessor(X)"
   ]
  },
  {
   "cell_type": "code",
   "execution_count": 10,
   "metadata": {},
   "outputs": [],
   "source": [
    "X_train, X_test, y_train, y_test = train_test_split(X, y, test_size=0.2, random_state=2025)"
   ]
  },
  {
   "cell_type": "code",
   "execution_count": 11,
   "metadata": {},
   "outputs": [],
   "source": [
    "# Aplicar el preprocesamiento a los datos\n",
    "X_train_preprocessed = preprocessor.fit_transform(X_train)\n",
    "X_test_preprocessed = preprocessor.transform(X_test)"
   ]
  },
  {
   "cell_type": "code",
   "execution_count": 12,
   "metadata": {},
   "outputs": [
    {
     "name": "stdout",
     "output_type": "stream",
     "text": [
      "(177476, 32)\n"
     ]
    },
    {
     "data": {
      "text/plain": [
       "array([[ 1.09626793,  1.09860943,  1.10169584, ...,  0.        ,\n",
       "         1.        ,  0.        ],\n",
       "       [-1.18038229, -1.17954564, -1.17320552, ...,  0.        ,\n",
       "         1.        ,  0.        ],\n",
       "       [ 0.85911687,  0.86130161,  0.86472695, ...,  1.        ,\n",
       "         1.        ,  0.        ],\n",
       "       ...,\n",
       "       [ 2.40059879,  2.40380244,  2.40502475, ...,  1.        ,\n",
       "         1.        ,  0.        ],\n",
       "       [-0.61121974, -0.61000688, -0.60448018, ...,  0.        ,\n",
       "         1.        ,  0.        ],\n",
       "       [ 1.21484346,  1.21726334,  1.22018029, ...,  1.        ,\n",
       "         1.        ,  0.        ]])"
      ]
     },
     "execution_count": 12,
     "metadata": {},
     "output_type": "execute_result"
    }
   ],
   "source": [
    "# Let's check the shape of the data post-preprocessing\n",
    "print(X_test_preprocessed.shape)\n",
    "X_test_preprocessed"
   ]
  },
  {
   "cell_type": "code",
   "execution_count": 13,
   "metadata": {},
   "outputs": [
    {
     "name": "stderr",
     "output_type": "stream",
     "text": [
      "/home/s/code/unal/RNA/Trabajos/modelos-riesgo-credito/.venv/lib/python3.11/site-packages/keras/src/layers/core/dense.py:87: UserWarning: Do not pass an `input_shape`/`input_dim` argument to a layer. When using Sequential models, prefer using an `Input(shape)` object as the first layer in the model instead.\n",
      "  super().__init__(activity_regularizer=activity_regularizer, **kwargs)\n",
      "2025-01-30 21:46:11.403318: E external/local_xla/xla/stream_executor/cuda/cuda_driver.cc:152] failed call to cuInit: INTERNAL: CUDA error: Failed call to cuInit: UNKNOWN ERROR (303)\n"
     ]
    }
   ],
   "source": [
    "# Construir el modelo de Keras\n",
    "model = Sequential([\n",
    "    Dense(64, input_dim=X_train_preprocessed.shape[1], activation='relu'),  # Capa de entrada con 64 neuronas\n",
    "    Dense(32, activation='relu'),  # Capa oculta con 32 neuronas\n",
    "    Dense(1, activation='sigmoid')  # Capa de salida (sigmoide para clasificación binaria)\n",
    "])"
   ]
  },
  {
   "cell_type": "code",
   "execution_count": 14,
   "metadata": {},
   "outputs": [],
   "source": [
    "# Compilar el modelo\n",
    "model.compile(optimizer='adam', loss='binary_crossentropy', metrics=['accuracy', 'recall'])"
   ]
  },
  {
   "cell_type": "code",
   "execution_count": 15,
   "metadata": {},
   "outputs": [
    {
     "name": "stdout",
     "output_type": "stream",
     "text": [
      "Epoch 1/10\n",
      "\u001b[1m22185/22185\u001b[0m \u001b[32m━━━━━━━━━━━━━━━━━━━━\u001b[0m\u001b[37m\u001b[0m \u001b[1m15s\u001b[0m 566us/step - accuracy: 0.9676 - loss: 0.1218 - recall: 0.9970\n",
      "Epoch 2/10\n",
      "\u001b[1m22185/22185\u001b[0m \u001b[32m━━━━━━━━━━━━━━━━━━━━\u001b[0m\u001b[37m\u001b[0m \u001b[1m12s\u001b[0m 559us/step - accuracy: 0.9743 - loss: 0.1025 - recall: 0.9990\n",
      "Epoch 3/10\n",
      "\u001b[1m22185/22185\u001b[0m \u001b[32m━━━━━━━━━━━━━━━━━━━━\u001b[0m\u001b[37m\u001b[0m \u001b[1m12s\u001b[0m 561us/step - accuracy: 0.9746 - loss: 0.1012 - recall: 0.9990\n",
      "Epoch 4/10\n",
      "\u001b[1m22185/22185\u001b[0m \u001b[32m━━━━━━━━━━━━━━━━━━━━\u001b[0m\u001b[37m\u001b[0m \u001b[1m12s\u001b[0m 561us/step - accuracy: 0.9749 - loss: 0.0998 - recall: 0.9988\n",
      "Epoch 5/10\n",
      "\u001b[1m22185/22185\u001b[0m \u001b[32m━━━━━━━━━━━━━━━━━━━━\u001b[0m\u001b[37m\u001b[0m \u001b[1m13s\u001b[0m 563us/step - accuracy: 0.9747 - loss: 0.1003 - recall: 0.9988\n",
      "Epoch 6/10\n",
      "\u001b[1m22185/22185\u001b[0m \u001b[32m━━━━━━━━━━━━━━━━━━━━\u001b[0m\u001b[37m\u001b[0m \u001b[1m13s\u001b[0m 563us/step - accuracy: 0.9746 - loss: 0.1011 - recall: 0.9987\n",
      "Epoch 7/10\n",
      "\u001b[1m22185/22185\u001b[0m \u001b[32m━━━━━━━━━━━━━━━━━━━━\u001b[0m\u001b[37m\u001b[0m \u001b[1m13s\u001b[0m 563us/step - accuracy: 0.9751 - loss: 0.0984 - recall: 0.9989\n",
      "Epoch 8/10\n",
      "\u001b[1m22185/22185\u001b[0m \u001b[32m━━━━━━━━━━━━━━━━━━━━\u001b[0m\u001b[37m\u001b[0m \u001b[1m13s\u001b[0m 563us/step - accuracy: 0.9753 - loss: 0.0982 - recall: 0.9987\n",
      "Epoch 9/10\n",
      "\u001b[1m22185/22185\u001b[0m \u001b[32m━━━━━━━━━━━━━━━━━━━━\u001b[0m\u001b[37m\u001b[0m \u001b[1m13s\u001b[0m 565us/step - accuracy: 0.9753 - loss: 0.0980 - recall: 0.9989\n",
      "Epoch 10/10\n",
      "\u001b[1m22185/22185\u001b[0m \u001b[32m━━━━━━━━━━━━━━━━━━━━\u001b[0m\u001b[37m\u001b[0m \u001b[1m13s\u001b[0m 565us/step - accuracy: 0.9754 - loss: 0.0968 - recall: 0.9988\n"
     ]
    },
    {
     "data": {
      "text/plain": [
       "<keras.src.callbacks.history.History at 0x7f794c270050>"
      ]
     },
     "execution_count": 15,
     "metadata": {},
     "output_type": "execute_result"
    }
   ],
   "source": [
    "# Entrenar el modelo\n",
    "model.fit(X_train_preprocessed, y_train, epochs=10, batch_size=32, verbose=1)"
   ]
  },
  {
   "cell_type": "code",
   "execution_count": 16,
   "metadata": {},
   "outputs": [
    {
     "name": "stdout",
     "output_type": "stream",
     "text": [
      "\u001b[1m5547/5547\u001b[0m \u001b[32m━━━━━━━━━━━━━━━━━━━━\u001b[0m\u001b[37m\u001b[0m \u001b[1m2s\u001b[0m 298us/step\n",
      "              precision    recall  f1-score   support\n",
      "\n",
      "           0       0.98      0.68      0.80     13324\n",
      "           1       0.97      1.00      0.99    164152\n",
      "\n",
      "    accuracy                           0.97    177476\n",
      "   macro avg       0.98      0.84      0.89    177476\n",
      "weighted avg       0.97      0.97      0.97    177476\n",
      "\n"
     ]
    }
   ],
   "source": [
    "# Hacer predicciones\n",
    "y_pred = (model.predict(X_test_preprocessed) > 0.5).astype(\"int32\")\n",
    "# Mostrar el reporte de clasificación\n",
    "print(classification_report(y_test, y_pred))"
   ]
  },
  {
   "cell_type": "code",
   "execution_count": 17,
   "metadata": {},
   "outputs": [
    {
     "data": {
      "text/plain": [
       "['model.pkl']"
      ]
     },
     "execution_count": 17,
     "metadata": {},
     "output_type": "execute_result"
    }
   ],
   "source": [
    "# Save the preprocessor\n",
    "filename = 'preprocessor.pkl'\n",
    "with open(filename, 'wb') as f:\n",
    "    pickle.dump(preprocessor, f)\n",
    "\n",
    "# Save the model to disk with pickle\n",
    "filename = 'model.pkl'\n",
    "joblib.dump(model, filename)"
   ]
  },
  {
   "cell_type": "markdown",
   "metadata": {},
   "source": [
    "# Explore a little bit"
   ]
  },
  {
   "cell_type": "code",
   "execution_count": 18,
   "metadata": {},
   "outputs": [
    {
     "name": "stdout",
     "output_type": "stream",
     "text": [
      "home_ownership\n",
      "MORTGAGE    443557\n",
      "RENT        356117\n",
      "OWN          87470\n",
      "OTHER          182\n",
      "NONE            50\n",
      "ANY              3\n",
      "Name: count, dtype: int64\n",
      "\n",
      "\n",
      "pymnt_plan\n",
      "n    887369\n",
      "y        10\n",
      "Name: count, dtype: int64\n"
     ]
    }
   ],
   "source": [
    "# Let's see all the values in the categorical_columns\n",
    "print(X['home_ownership'].value_counts())\n",
    "print('\\n')\n",
    "print(X['pymnt_plan'].value_counts()) # very unbalanced btw"
   ]
  },
  {
   "cell_type": "code",
   "execution_count": 19,
   "metadata": {},
   "outputs": [
    {
     "name": "stdout",
     "output_type": "stream",
     "text": [
      "26\n"
     ]
    },
    {
     "data": {
      "text/plain": [
       "loan_amnt                      13000.0\n",
       "funded_amnt                    13000.0\n",
       "funded_amnt_inv                13000.0\n",
       "term                               0.0\n",
       "int_rate                          8.39\n",
       "installment                     409.72\n",
       "sub_grade                          7.0\n",
       "home_ownership                MORTGAGE\n",
       "annual_inc                     85000.0\n",
       "verification_status                0.0\n",
       "pymnt_plan                           n\n",
       "dti                               20.1\n",
       "delinq_2yrs                        0.0\n",
       "revol_util                        91.0\n",
       "total_acc                         34.0\n",
       "out_prncp                      6545.54\n",
       "total_rec_prncp                6454.46\n",
       "total_rec_int                  1330.22\n",
       "total_rec_late_fee                 0.0\n",
       "recoveries                         0.0\n",
       "collection_recovery_fee            0.0\n",
       "collections_12_mths_ex_med         0.0\n",
       "policy_code                        1.0\n",
       "acc_now_delinq                     0.0\n",
       "tot_cur_bal                   214810.0\n",
       "total_rev_hi_lim               45300.0\n",
       "Name: 366364, dtype: object"
      ]
     },
     "execution_count": 19,
     "metadata": {},
     "output_type": "execute_result"
    }
   ],
   "source": [
    "# define a variable to store a random row from the test set\n",
    "column_data = X_test.iloc[10000]\n",
    "print(len(column_data))\n",
    "column_data"
   ]
  },
  {
   "cell_type": "code",
   "execution_count": 20,
   "metadata": {},
   "outputs": [
    {
     "data": {
      "text/plain": [
       "array([[-0.20806293, -0.20658358, -0.20163306, -0.65492397, -1.10839308,\n",
       "        -0.11041772,  1.07176681,  0.14995949, -1.52445636,  0.13436668,\n",
       "        -0.36421949,  1.50720021,  0.73739105, -0.21881011,  0.10573753,\n",
       "        -0.20265669, -0.09767804, -0.11179785, -0.07633923, -0.10798593,\n",
       "         0.        , -0.06358984,  0.53930447,  0.39374084,  0.        ,\n",
       "         1.        ,  0.        ,  0.        ,  0.        ,  0.        ,\n",
       "         1.        ,  0.        ]])"
      ]
     },
     "execution_count": 20,
     "metadata": {},
     "output_type": "execute_result"
    }
   ],
   "source": [
    "# transform with the preprocessor\n",
    "input_data = preprocessor.transform(column_data.to_frame().T)\n",
    "input_data"
   ]
  },
  {
   "cell_type": "code",
   "execution_count": 21,
   "metadata": {},
   "outputs": [
    {
     "name": "stdout",
     "output_type": "stream",
     "text": [
      "\u001b[1m1/1\u001b[0m \u001b[32m━━━━━━━━━━━━━━━━━━━━\u001b[0m\u001b[37m\u001b[0m \u001b[1m0s\u001b[0m 17ms/step\n"
     ]
    },
    {
     "data": {
      "text/plain": [
       "0.9877855181694031"
      ]
     },
     "execution_count": 21,
     "metadata": {},
     "output_type": "execute_result"
    }
   ],
   "source": [
    "# make a prediction with the model just a test row\n",
    "model.predict(input_data).item()"
   ]
  },
  {
   "cell_type": "code",
   "execution_count": 22,
   "metadata": {},
   "outputs": [
    {
     "name": "stdout",
     "output_type": "stream",
     "text": [
      "\u001b[1m5547/5547\u001b[0m \u001b[32m━━━━━━━━━━━━━━━━━━━━\u001b[0m\u001b[37m\u001b[0m \u001b[1m2s\u001b[0m 297us/step\n",
      "ROC AUC score: 0.9351505328517964\n"
     ]
    }
   ],
   "source": [
    "# score\n",
    "roc_score = roc_auc_score(y_test, model.predict(X_test_preprocessed))\n",
    "print(f'ROC AUC score: {roc_score}')\n"
   ]
  },
  {
   "cell_type": "code",
   "execution_count": 23,
   "metadata": {},
   "outputs": [
    {
     "name": "stdout",
     "output_type": "stream",
     "text": [
      "\u001b[1m5547/5547\u001b[0m \u001b[32m━━━━━━━━━━━━━━━━━━━━\u001b[0m\u001b[37m\u001b[0m \u001b[1m2s\u001b[0m 293us/step\n"
     ]
    },
    {
     "data": {
      "image/png": "[encoded data removed]",
      "text/plain": [
       "<Figure size 640x480 with 1 Axes>"
      ]
     },
     "metadata": {},
     "output_type": "display_data"
    }
   ],
   "source": [
    "# curve\n",
    "fpr, tpr, thresholds = roc_curve(y_test, model.predict(X_test_preprocessed))\n",
    "plt.plot(fpr, tpr)\n",
    "plt.xlabel('False Positive Rate')\n",
    "plt.ylabel('True Positive Rate')\n",
    "plt.title('ROC curve')\n",
    "plt.show()"
   ]
  },
  {
   "cell_type": "code",
   "execution_count": 24,
   "metadata": {},
   "outputs": [
    {
     "data": {
      "image/png": "[encoded data removed]",
      "text/plain": [
       "<Figure size 640x480 with 2 Axes>"
      ]
     },
     "metadata": {},
     "output_type": "display_data"
    }
   ],
   "source": [
    "# matrix confusion\n",
    "cm = tf.math.confusion_matrix(y_test, y_pred)\n",
    "sns.heatmap(cm, annot=True, fmt='d')\n",
    "plt.xlabel('Predicted')\n",
    "plt.ylabel('True')\n",
    "plt.title('Confusion Matrix')\n",
    "plt.show()"
   ]
  }
 ],
 "metadata": {
  "kernelspec": {
   "display_name": ".venv",
   "language": "python",
   "name": "python3"
  },
  "language_info": {
   "codemirror_mode": {
    "name": "ipython",
    "version": 3
   },
   "file_extension": ".py",
   "mimetype": "text/x-python",
   "name": "python",
   "nbconvert_exporter": "python",
   "pygments_lexer": "ipython3",
   "version": "3.11.2"
  }
 },
 "nbformat": 4,
 "nbformat_minor": 2
}
