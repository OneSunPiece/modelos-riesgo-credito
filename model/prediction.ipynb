{
 "cells": [
  {
   "cell_type": "code",
   "execution_count": 1,
   "metadata": {},
   "outputs": [],
   "source": [
    "import numpy as np\n",
    "import pickle\n",
    "import pandas as pd"
   ]
  },
  {
   "cell_type": "code",
   "execution_count": 2,
   "metadata": {},
   "outputs": [],
   "source": [
    "MODEL_FILE_NAME = 'model.pkl'\n",
    "PREPROCESSOR_FILE_NAME = 'preprocessor.pkl'"
   ]
  },
  {
   "cell_type": "code",
   "execution_count": 11,
   "metadata": {},
   "outputs": [],
   "source": [
    "#input_data:list[float] = [5000.00, 0.00, 10.65, 162.87, 4.00, 12.00, 1.00, 24000.00, 2.00, 1.00, 0.00]\n",
    "\n",
    "input_data:list = [\n",
    "    np.float64(24000.0),\n",
    "    np.float64(24000.0),\n",
    "    np.float64(0.0),\n",
    "    np.float64(6.03),\n",
    "    np.float64(730.46),\n",
    "    np.float64(7.8),\n",
    "    'MORTGAGE',\n",
    "    np.float64(182000.0),\n",
    "    np.float64(1.0),\n",
    "    'n',\n",
    "    np.float64(13.15),\n",
    "    np.float64(0.0),\n",
    "    np.float64(1.0),\n",
    "    np.float64(72.0),\n",
    "    np.float64(70.0),\n",
    "    np.float64(15.0),\n",
    "    np.float64(0.0),\n",
    "    np.float64(26660.0),\n",
    "    'f',\n",
    "    np.float64(0.0),\n",
    "    np.float64(25479.8958428),\n",
    "    np.float64(25479.9),\n",
    "    np.float64(15254.84),\n",
    "    np.float64(44.0),\n",
    "    'INDIVIDUAL',\n",
    "    np.float64(101771.0),\n",
    "    np.float64(17.61),\n",
    "    np.nan,\n",
    "    np.float64(0.0),\n",
    "    np.float64(1.0),\n",
    "    np.float64(2.0),\n",
    "    np.float64(0.0),\n",
    "    np.float64(1.0),\n",
    "    np.float64(12.0),\n",
    "    np.float64(24684.5),\n",
    "    np.float64(74.9),\n",
    "    np.float64(1.0),\n",
    "    np.float64(2.0),\n",
    "    np.float64(4483.0),\n",
    "    np.float64(61.9),\n",
    "    np.float64(0.0),\n",
    "    np.float64(0.0),\n",
    "    np.float64(2.0)\n",
    "]\n",
    "# \n",
    "\n",
    "# Define column names\n",
    "column_names = [\n",
    "'loan_amnt',\n",
    "'funded_amnt_inv',\n",
    "'term',\n",
    "'int_rate',\n",
    "'installment',\n",
    "'sub_grade',\n",
    "'home_ownership',\n",
    "'annual_inc',\n",
    "'verification_status',\n",
    "'pymnt_plan',\n",
    "'dti',\n",
    "'delinq_2yrs',\n",
    "'inq_last_6mths',\n",
    "'mths_since_last_delinq',\n",
    "'mths_since_last_record',\n",
    "'open_acc',\n",
    "'pub_rec',\n",
    "'revol_bal',\n",
    "'initial_list_status',\n",
    "'out_prncp_inv',\n",
    "'total_pymnt',\n",
    "'total_pymnt_inv',\n",
    "'last_pymnt_amnt',\n",
    "'mths_since_last_major_derog',\n",
    "'application_type',\n",
    "'annual_inc_joint',\n",
    "'dti_joint',\n",
    "'verification_status_joint',\n",
    "'tot_coll_amt',\n",
    "'open_acc_6m',\n",
    "'open_il_6m',\n",
    "'open_il_12m',\n",
    "'open_il_24m',\n",
    "'mths_since_rcnt_il',\n",
    "'total_bal_il',\n",
    "'il_util',\n",
    "'open_rv_12m',\n",
    "'open_rv_24m',\n",
    "'max_bal_bc',\n",
    "'all_util',\n",
    "'inq_fi',\n",
    "'total_cu_tl',\n",
    "'inq_last_12m'\n",
    "]\n"
   ]
  },
  {
   "cell_type": "code",
   "execution_count": 12,
   "metadata": {},
   "outputs": [
    {
     "name": "stdout",
     "output_type": "stream",
     "text": [
      "(43,)\n"
     ]
    },
    {
     "data": {
      "text/plain": [
       "loan_amnt                           24000.0\n",
       "funded_amnt_inv                     24000.0\n",
       "term                                    0.0\n",
       "int_rate                               6.03\n",
       "installment                          730.46\n",
       "sub_grade                               7.8\n",
       "home_ownership                     MORTGAGE\n",
       "annual_inc                         182000.0\n",
       "verification_status                     1.0\n",
       "pymnt_plan                                n\n",
       "dti                                   13.15\n",
       "delinq_2yrs                             0.0\n",
       "inq_last_6mths                          1.0\n",
       "mths_since_last_delinq                 72.0\n",
       "mths_since_last_record                 70.0\n",
       "open_acc                               15.0\n",
       "pub_rec                                 0.0\n",
       "revol_bal                           26660.0\n",
       "initial_list_status                       f\n",
       "out_prncp_inv                           0.0\n",
       "total_pymnt                    25479.895843\n",
       "total_pymnt_inv                     25479.9\n",
       "last_pymnt_amnt                    15254.84\n",
       "mths_since_last_major_derog            44.0\n",
       "application_type                 INDIVIDUAL\n",
       "annual_inc_joint                   101771.0\n",
       "dti_joint                             17.61\n",
       "verification_status_joint               NaN\n",
       "tot_coll_amt                            0.0\n",
       "open_acc_6m                             1.0\n",
       "open_il_6m                              2.0\n",
       "open_il_12m                             0.0\n",
       "open_il_24m                             1.0\n",
       "mths_since_rcnt_il                     12.0\n",
       "total_bal_il                        24684.5\n",
       "il_util                                74.9\n",
       "open_rv_12m                             1.0\n",
       "open_rv_24m                             2.0\n",
       "max_bal_bc                           4483.0\n",
       "all_util                               61.9\n",
       "inq_fi                                  0.0\n",
       "total_cu_tl                             0.0\n",
       "inq_last_12m                            2.0\n",
       "dtype: object"
      ]
     },
     "execution_count": 12,
     "metadata": {},
     "output_type": "execute_result"
    }
   ],
   "source": [
    "# convert to pandas serie\n",
    "input_data = pd.Series(input_data, index=column_names)\n",
    "print(input_data.shape)\n",
    "input_data"
   ]
  },
  {
   "cell_type": "code",
   "execution_count": 5,
   "metadata": {},
   "outputs": [
    {
     "name": "stderr",
     "output_type": "stream",
     "text": [
      "2025-01-24 22:03:23.063688: I external/local_xla/xla/tsl/cuda/cudart_stub.cc:32] Could not find cuda drivers on your machine, GPU will not be used.\n",
      "2025-01-24 22:03:23.066273: I external/local_xla/xla/tsl/cuda/cudart_stub.cc:32] Could not find cuda drivers on your machine, GPU will not be used.\n",
      "2025-01-24 22:03:23.072927: E external/local_xla/xla/stream_executor/cuda/cuda_fft.cc:477] Unable to register cuFFT factory: Attempting to register factory for plugin cuFFT when one has already been registered\n",
      "WARNING: All log messages before absl::InitializeLog() is called are written to STDERR\n",
      "E0000 00:00:1737774203.083450  150963 cuda_dnn.cc:8310] Unable to register cuDNN factory: Attempting to register factory for plugin cuDNN when one has already been registered\n",
      "E0000 00:00:1737774203.086585  150963 cuda_blas.cc:1418] Unable to register cuBLAS factory: Attempting to register factory for plugin cuBLAS when one has already been registered\n",
      "2025-01-24 22:03:23.098930: I tensorflow/core/platform/cpu_feature_guard.cc:210] This TensorFlow binary is optimized to use available CPU instructions in performance-critical operations.\n",
      "To enable the following instructions: AVX2 FMA, in other operations, rebuild TensorFlow with the appropriate compiler flags.\n",
      "2025-01-24 22:03:24.461684: E external/local_xla/xla/stream_executor/cuda/cuda_driver.cc:152] failed call to cuInit: INTERNAL: CUDA error: Failed call to cuInit: UNKNOWN ERROR (303)\n"
     ]
    }
   ],
   "source": [
    "# Unpickle the preprocessor\n",
    "with open(PREPROCESSOR_FILE_NAME, 'rb') as f:\n",
    "    preprocessor = pickle.load(f)\n",
    "\n",
    "# Unpickle the model\n",
    "with open(MODEL_FILE_NAME, 'rb') as f:\n",
    "    model = pickle.load(f)"
   ]
  },
  {
   "cell_type": "code",
   "execution_count": 6,
   "metadata": {},
   "outputs": [
    {
     "data": {
      "text/plain": [
       "array([[ 1.09626793e+00,  1.10169584e+00, -6.54923967e-01,\n",
       "        -1.64698153e+00,  1.20353454e+00,  1.68761505e+00,\n",
       "         1.60774485e+00,  6.55971547e-01, -3.45016571e-01,\n",
       "        -3.64219485e-01,  3.06063867e-01,  2.57108581e+00,\n",
       "        -1.50509229e-03,  6.49215140e-01, -3.33184820e-01,\n",
       "         4.33848048e-01, -9.89383238e-01,  2.27759309e+00,\n",
       "         2.28974440e+00,  2.73433588e+00, -1.84445658e-03,\n",
       "        -3.64015812e-03, -1.99749055e-03, -1.91202527e-02,\n",
       "        -1.34946381e-02, -4.48347379e-02, -9.43723085e-02,\n",
       "        -5.76679573e-02, -4.78337113e-02, -4.14444317e-02,\n",
       "         2.18359227e-02, -3.91789479e-02, -5.43517084e-02,\n",
       "        -3.97769208e-02,  9.11799374e-03, -8.48178460e-02,\n",
       "        -7.68311359e-02,  1.67117122e-03,  0.00000000e+00,\n",
       "         1.00000000e+00,  0.00000000e+00,  0.00000000e+00,\n",
       "         0.00000000e+00,  0.00000000e+00,  1.00000000e+00,\n",
       "         0.00000000e+00,  1.00000000e+00,  0.00000000e+00,\n",
       "         1.00000000e+00,  0.00000000e+00,  0.00000000e+00,\n",
       "         0.00000000e+00,  0.00000000e+00,  1.00000000e+00]])"
      ]
     },
     "execution_count": 6,
     "metadata": {},
     "output_type": "execute_result"
    }
   ],
   "source": [
    "# Preprocess the input data\n",
    "input_df = input_data.to_frame().T\n",
    "input_data = preprocessor.transform(input_df)\n",
    "input_data"
   ]
  },
  {
   "cell_type": "code",
   "execution_count": 7,
   "metadata": {},
   "outputs": [
    {
     "name": "stdout",
     "output_type": "stream",
     "text": [
      "\u001b[1m1/1\u001b[0m \u001b[32m━━━━━━━━━━━━━━━━━━━━\u001b[0m\u001b[37m\u001b[0m \u001b[1m0s\u001b[0m 36ms/step\n",
      "[[0.9999941]]\n"
     ]
    }
   ],
   "source": [
    "y_pred = model.predict(input_data)\n",
    "print(y_pred)"
   ]
  }
 ],
 "metadata": {
  "kernelspec": {
   "display_name": ".venv",
   "language": "python",
   "name": "python3"
  },
  "language_info": {
   "codemirror_mode": {
    "name": "ipython",
    "version": 3
   },
   "file_extension": ".py",
   "mimetype": "text/x-python",
   "name": "python",
   "nbconvert_exporter": "python",
   "pygments_lexer": "ipython3",
   "version": "3.11.2"
  }
 },
 "nbformat": 4,
 "nbformat_minor": 2
}
