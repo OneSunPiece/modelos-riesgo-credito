{
 "cells": [
  {
   "cell_type": "code",
   "execution_count": 1,
   "metadata": {},
   "outputs": [],
   "source": [
    "import numpy as np\n",
    "import pickle\n",
    "import pandas as pd"
   ]
  },
  {
   "cell_type": "code",
   "execution_count": 2,
   "metadata": {},
   "outputs": [],
   "source": [
    "MODEL_FILE_NAME = 'model.pkl'\n",
    "PREPROCESSOR_FILE_NAME = 'preprocessor.pkl'"
   ]
  },
  {
   "cell_type": "code",
   "execution_count": 6,
   "metadata": {},
   "outputs": [],
   "source": [
    "#input_data:list[float] = [5000.00, 0.00, 10.65, 162.87, 4.00, 12.00, 1.00, 24000.00, 2.00, 1.00, 0.00]\n",
    "import numpy as np\n",
    "\n",
    "input_data:list = [\n",
    "    np.float64(13000.0),\n",
    "    np.float64(13000.0), \n",
    "    np.float64(13000.0), \n",
    "    np.float64(0.0), \n",
    "    np.float64(8.39), \n",
    "    np.float64(409.72), \n",
    "    np.float64(7.0), \n",
    "    \"MORTGAGE\", \n",
    "    np.float64(85000.0), \n",
    "    np.float64(0.0), \n",
    "    \"n\", \n",
    "    np.float64(20.1), \n",
    "    np.float64(0.0), \n",
    "    np.float64(91.0), \n",
    "    np.float64(34.0), \n",
    "    np.float64(6545.54), \n",
    "    np.float64(6454.46), \n",
    "    np.float64(1330.22), \n",
    "    np.float64(0.0), \n",
    "    np.float64(0.0), \n",
    "    np.float64(0.0), \n",
    "    np.float64(0.0), \n",
    "    np.float64(1.0), \n",
    "    np.float64(0.0), \n",
    "    np.float64(214810.0), \n",
    "    np.float64(45300.0)\n",
    "    ]\n",
    "# \n",
    "\n",
    "# Define column names\n",
    "column_names = [\n",
    "    \"loan_amnt\",\n",
    "    \"funded_amnt\",\n",
    "    \"funded_amnt_inv\",\n",
    "    \"term\",\n",
    "    \"int_rate\",\n",
    "    \"installment\",\n",
    "    \"sub_grade\",\n",
    "    \"home_ownership\",\n",
    "    \"annual_inc\",\n",
    "    \"verification_status\",\n",
    "    \"pymnt_plan\",\n",
    "    \"dti\",\n",
    "    \"delinq_2yrs\",\n",
    "    \"revol_util\",\n",
    "    \"total_acc\",\n",
    "    \"out_prncp\",\n",
    "    \"total_rec_prncp\",\n",
    "    \"total_rec_int\",\n",
    "    \"total_rec_late_fee\",\n",
    "    \"recoveries\",\n",
    "    \"collection_recovery_fee\",\n",
    "    \"collections_12_mths_ex_med\",\n",
    "    \"policy_code\",\n",
    "    \"acc_now_delinq\",\n",
    "    \"tot_cur_bal\",\n",
    "    \"total_rev_hi_lim\"\n",
    "]"
   ]
  },
  {
   "cell_type": "code",
   "execution_count": 7,
   "metadata": {},
   "outputs": [
    {
     "name": "stdout",
     "output_type": "stream",
     "text": [
      "(26,)\n"
     ]
    },
    {
     "data": {
      "text/plain": [
       "loan_amnt                      13000.0\n",
       "funded_amnt                    13000.0\n",
       "funded_amnt_inv                13000.0\n",
       "term                               0.0\n",
       "int_rate                          8.39\n",
       "installment                     409.72\n",
       "sub_grade                          7.0\n",
       "home_ownership                MORTGAGE\n",
       "annual_inc                     85000.0\n",
       "verification_status                0.0\n",
       "pymnt_plan                           n\n",
       "dti                               20.1\n",
       "delinq_2yrs                        0.0\n",
       "revol_util                        91.0\n",
       "total_acc                         34.0\n",
       "out_prncp                      6545.54\n",
       "total_rec_prncp                6454.46\n",
       "total_rec_int                  1330.22\n",
       "total_rec_late_fee                 0.0\n",
       "recoveries                         0.0\n",
       "collection_recovery_fee            0.0\n",
       "collections_12_mths_ex_med         0.0\n",
       "policy_code                        1.0\n",
       "acc_now_delinq                     0.0\n",
       "tot_cur_bal                   214810.0\n",
       "total_rev_hi_lim               45300.0\n",
       "dtype: object"
      ]
     },
     "execution_count": 7,
     "metadata": {},
     "output_type": "execute_result"
    }
   ],
   "source": [
    "# convert to pandas serie\n",
    "input_data = pd.Series(input_data, index=column_names)\n",
    "print(input_data.shape)\n",
    "input_data"
   ]
  },
  {
   "cell_type": "code",
   "execution_count": 8,
   "metadata": {},
   "outputs": [
    {
     "name": "stderr",
     "output_type": "stream",
     "text": [
      "2025-01-28 20:04:06.095871: I external/local_xla/xla/tsl/cuda/cudart_stub.cc:32] Could not find cuda drivers on your machine, GPU will not be used.\n",
      "2025-01-28 20:04:06.191167: I external/local_xla/xla/tsl/cuda/cudart_stub.cc:32] Could not find cuda drivers on your machine, GPU will not be used.\n",
      "2025-01-28 20:04:06.234278: E external/local_xla/xla/stream_executor/cuda/cuda_fft.cc:477] Unable to register cuFFT factory: Attempting to register factory for plugin cuFFT when one has already been registered\n",
      "WARNING: All log messages before absl::InitializeLog() is called are written to STDERR\n",
      "E0000 00:00:1738112646.270245  129168 cuda_dnn.cc:8310] Unable to register cuDNN factory: Attempting to register factory for plugin cuDNN when one has already been registered\n",
      "E0000 00:00:1738112646.286234  129168 cuda_blas.cc:1418] Unable to register cuBLAS factory: Attempting to register factory for plugin cuBLAS when one has already been registered\n",
      "2025-01-28 20:04:06.325169: I tensorflow/core/platform/cpu_feature_guard.cc:210] This TensorFlow binary is optimized to use available CPU instructions in performance-critical operations.\n",
      "To enable the following instructions: AVX2 FMA, in other operations, rebuild TensorFlow with the appropriate compiler flags.\n",
      "2025-01-28 20:04:15.586794: E external/local_xla/xla/stream_executor/cuda/cuda_driver.cc:152] failed call to cuInit: INTERNAL: CUDA error: Failed call to cuInit: UNKNOWN ERROR (303)\n"
     ]
    }
   ],
   "source": [
    "# Unpickle the preprocessor\n",
    "with open(PREPROCESSOR_FILE_NAME, 'rb') as f:\n",
    "    preprocessor = pickle.load(f)\n",
    "\n",
    "# Unpickle the model\n",
    "with open(MODEL_FILE_NAME, 'rb') as f:\n",
    "    model = pickle.load(f)"
   ]
  },
  {
   "cell_type": "code",
   "execution_count": 9,
   "metadata": {},
   "outputs": [
    {
     "data": {
      "text/plain": [
       "array([[-0.20806293, -0.20658358, -0.20163306, -0.65492397, -1.10839308,\n",
       "        -0.11041772,  1.07176681,  0.14995949, -1.52445636,  0.13436668,\n",
       "        -0.36421949,  1.50720021,  0.73739105, -0.21881011,  0.10573753,\n",
       "        -0.20265669, -0.09767804, -0.11179785, -0.07633923, -0.10798593,\n",
       "         0.        , -0.06358984,  0.53930447,  0.39374084,  0.        ,\n",
       "         1.        ,  0.        ,  0.        ,  0.        ,  0.        ,\n",
       "         1.        ,  0.        ]])"
      ]
     },
     "execution_count": 9,
     "metadata": {},
     "output_type": "execute_result"
    }
   ],
   "source": [
    "# Preprocess the input data\n",
    "input_df = input_data.to_frame().T\n",
    "input_data = preprocessor.transform(input_df)\n",
    "input_data"
   ]
  },
  {
   "cell_type": "code",
   "execution_count": 10,
   "metadata": {},
   "outputs": [
    {
     "name": "stdout",
     "output_type": "stream",
     "text": [
      "\u001b[1m1/1\u001b[0m \u001b[32m━━━━━━━━━━━━━━━━━━━━\u001b[0m\u001b[37m\u001b[0m \u001b[1m0s\u001b[0m 40ms/step\n",
      "[[0.989403]]\n"
     ]
    }
   ],
   "source": [
    "y_pred = model.predict(input_data)\n",
    "print(y_pred)"
   ]
  }
 ],
 "metadata": {
  "kernelspec": {
   "display_name": ".venv",
   "language": "python",
   "name": "python3"
  },
  "language_info": {
   "codemirror_mode": {
    "name": "ipython",
    "version": 3
   },
   "file_extension": ".py",
   "mimetype": "text/x-python",
   "name": "python",
   "nbconvert_exporter": "python",
   "pygments_lexer": "ipython3",
   "version": "3.11.2"
  }
 },
 "nbformat": 4,
 "nbformat_minor": 2
}
