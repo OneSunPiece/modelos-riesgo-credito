{
 "cells": [
  {
   "cell_type": "code",
   "execution_count": 1,
   "metadata": {},
   "outputs": [],
   "source": [
    "import numpy as np\n",
    "import pickle\n",
    "import pandas as pd"
   ]
  },
  {
   "cell_type": "code",
   "execution_count": 2,
   "metadata": {},
   "outputs": [],
   "source": [
    "MODEL_FILE_NAME = 'model.pkl'\n",
    "PREPROCESSOR_FILE_NAME = 'preprocessor.pkl'"
   ]
  },
  {
   "cell_type": "code",
   "execution_count": 6,
   "metadata": {},
   "outputs": [],
   "source": [
    "#input_data:list[float] = [5000.00, 0.00, 10.65, 162.87, 4.00, 12.00, 1.00, 24000.00, 2.00, 1.00, 0.00]\n",
    "import numpy as np\n",
    "\n",
    "input_data:list = [\n",
    "    np.float64(13000.0),\n",
    "    np.float64(13000.0), \n",
    "    np.float64(13000.0), \n",
    "    np.float64(0.0), \n",
    "    np.float64(8.39), \n",
    "    np.float64(409.72), \n",
    "    np.float64(7.0), \n",
    "    \"MORTGAGE\", \n",
    "    np.float64(85000.0), \n",
    "    np.float64(0.0), \n",
    "    \"n\", \n",
    "    np.float64(20.1), \n",
    "    np.float64(0.0), \n",
    "    np.float64(91.0), \n",
    "    np.float64(34.0), \n",
    "    np.float64(6545.54), \n",
    "    np.float64(6454.46), \n",
    "    np.float64(1330.22), \n",
    "    np.float64(0.0), \n",
    "    np.float64(0.0), \n",
    "    np.float64(0.0), \n",
    "    np.float64(0.0), \n",
    "    np.float64(1.0), \n",
    "    np.float64(0.0), \n",
    "    np.float64(214810.0), \n",
    "    np.float64(45300.0)\n",
    "    ]\n",
    "# \n",
    "\n",
    "# Define column names\n",
    "column_names = [\n",
    "    \"loan_amnt\",\n",
    "    \"funded_amnt\",\n",
    "    \"funded_amnt_inv\",\n",
    "    \"term\",\n",
    "    \"int_rate\",\n",
    "    \"installment\",\n",
    "    \"sub_grade\",\n",
    "    \"home_ownership\",\n",
    "    \"annual_inc\",\n",
    "    \"verification_status\",\n",
    "    \"pymnt_plan\",\n",
    "    \"dti\",\n",
    "    \"delinq_2yrs\",\n",
    "    \"revol_util\",\n",
    "    \"total_acc\",\n",
    "    \"out_prncp\",\n",
    "    \"total_rec_prncp\",\n",
    "    \"total_rec_int\",\n",
    "    \"total_rec_late_fee\",\n",
    "    \"recoveries\",\n",
    "    \"collection_recovery_fee\",\n",
    "    \"collections_12_mths_ex_med\",\n",
    "    \"policy_code\",\n",
    "    \"acc_now_delinq\",\n",
    "    \"tot_cur_bal\",\n",
    "    \"total_rev_hi_lim\"\n",
    "]"
   ]
  },
  {
   "cell_type": "code",
   "execution_count": null,
   "metadata": {},
   "outputs": [],
   "source": [
    "# convert to pandas serie\n",
    "input_data = pd.Series(input_data, index=column_names)\n",
    "print(input_data.shape)\n",
    "input_data"
   ]
  },
  {
   "cell_type": "code",
   "execution_count": null,
   "metadata": {},
   "outputs": [],
   "source": [
    "# Unpickle the preprocessor\n",
    "with open(PREPROCESSOR_FILE_NAME, 'rb') as f:\n",
    "    preprocessor = pickle.load(f)\n",
    "\n",
    "# Unpickle the model\n",
    "with open(MODEL_FILE_NAME, 'rb') as f:\n",
    "    model = pickle.load(f)"
   ]
  },
  {
   "cell_type": "code",
   "execution_count": null,
   "metadata": {},
   "outputs": [],
   "source": [
    "# Preprocess the input data\n",
    "input_df = input_data.to_frame().T\n",
    "input_data = preprocessor.transform(input_df)\n",
    "input_data"
   ]
  },
  {
   "cell_type": "code",
   "execution_count": null,
   "metadata": {},
   "outputs": [],
   "source": [
    "y_pred = model.predict(input_data)\n",
    "print(y_pred)"
   ]
  }
 ],
 "metadata": {
  "kernelspec": {
   "display_name": ".venv",
   "language": "python",
   "name": "python3"
  },
  "language_info": {
   "codemirror_mode": {
    "name": "ipython",
    "version": 3
   },
   "file_extension": ".py",
   "mimetype": "text/x-python",
   "name": "python",
   "nbconvert_exporter": "python",
   "pygments_lexer": "ipython3",
   "version": "3.11.2"
  }
 },
 "nbformat": 4,
 "nbformat_minor": 2
}
